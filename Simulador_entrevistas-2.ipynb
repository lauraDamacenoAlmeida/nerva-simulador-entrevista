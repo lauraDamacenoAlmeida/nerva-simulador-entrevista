{
  "nbformat": 4,
  "nbformat_minor": 0,
  "metadata": {
    "colab": {
      "provenance": []
    },
    "kernelspec": {
      "name": "python3",
      "display_name": "Python 3"
    },
    "language_info": {
      "name": "python"
    }
  },
  "cells": [
    {
      "cell_type": "markdown",
      "source": [
        "# Nerva: a IA generativa para simulação de entrevistas"
      ],
      "metadata": {
        "id": "f4zcli0nCm3e"
      }
    },
    {
      "cell_type": "markdown",
      "source": [
        "Já sentiu aquele frio na barriga quando ia participar de uma entrevista? Acredito que todos nós já passamos por isso hahahah\n",
        "\n",
        "\n",
        "Pensando nisso, criei um chatbot para te ajudar a se preparar mais para o processo seletivo: conheça a NERVA.\n",
        "\n",
        "O nome Nerva vem da ideia de enfrentarmos nossos nervos, aquele frio na barriga, e transformá-lo em força. Nerva é um simulador inteligente de entrevistas com IA, criado para quem quer treinar, errar, aprender e evoluir — sem julgamento e no seu ritmo."
      ],
      "metadata": {
        "id": "trIpK02ZCu8Q"
      }
    },
    {
      "cell_type": "code",
      "execution_count": 12,
      "metadata": {
        "id": "jNQl2VVH-14R"
      },
      "outputs": [],
      "source": [
        "!pip install -q -U google-generativeai"
      ]
    },
    {
      "cell_type": "code",
      "source": [
        "# Import the Python SDK\n",
        "import google.generativeai as genai\n",
        "\n"
      ],
      "metadata": {
        "id": "hEnjdveW_08_"
      },
      "execution_count": 3,
      "outputs": []
    },
    {
      "cell_type": "code",
      "source": [
        "from google.colab import userdata # para evitar de vazar minha chave\n",
        "\n",
        "api_key = userdata.get(\"SECRET_KEY2\") # está lá no campo \"secrets\", addnew secret\n",
        "GOOGLE_API_KEY= api_key\n",
        "\n",
        "genai.configure(api_key=GOOGLE_API_KEY)\n"
      ],
      "metadata": {
        "id": "12HDdkAGQThq"
      },
      "execution_count": null,
      "outputs": []
    },
    {
      "cell_type": "code",
      "source": [
        "for m in genai.list_models():\n",
        "  if 'generateContent' in m.supported_generation_methods: #se é modelo que gera conteúdo\n",
        "    print(m.name)\n"
      ],
      "metadata": {
        "colab": {
          "base_uri": "https://localhost:8080/",
          "height": 748
        },
        "id": "djAXUwSG__Hp",
        "outputId": "30ff2493-a348-4cfc-9713-307f6b68d218"
      },
      "execution_count": 4,
      "outputs": [
        {
          "output_type": "stream",
          "name": "stdout",
          "text": [
            "models/gemini-1.0-pro-vision-latest\n",
            "models/gemini-pro-vision\n",
            "models/gemini-1.5-pro-latest\n",
            "models/gemini-1.5-pro-002\n",
            "models/gemini-1.5-pro\n",
            "models/gemini-1.5-flash-latest\n",
            "models/gemini-1.5-flash\n",
            "models/gemini-1.5-flash-002\n",
            "models/gemini-1.5-flash-8b\n",
            "models/gemini-1.5-flash-8b-001\n",
            "models/gemini-1.5-flash-8b-latest\n",
            "models/gemini-2.5-pro-preview-03-25\n",
            "models/gemini-2.5-flash-preview-05-20\n",
            "models/gemini-2.5-flash\n",
            "models/gemini-2.5-flash-lite-preview-06-17\n",
            "models/gemini-2.5-pro-preview-05-06\n",
            "models/gemini-2.5-pro-preview-06-05\n",
            "models/gemini-2.5-pro\n",
            "models/gemini-2.0-flash-exp\n",
            "models/gemini-2.0-flash\n",
            "models/gemini-2.0-flash-001\n",
            "models/gemini-2.0-flash-exp-image-generation\n",
            "models/gemini-2.0-flash-lite-001\n",
            "models/gemini-2.0-flash-lite\n",
            "models/gemini-2.0-flash-preview-image-generation\n",
            "models/gemini-2.0-flash-lite-preview-02-05\n",
            "models/gemini-2.0-flash-lite-preview\n",
            "models/gemini-2.0-pro-exp\n",
            "models/gemini-2.0-pro-exp-02-05\n",
            "models/gemini-exp-1206\n",
            "models/gemini-2.0-flash-thinking-exp-01-21\n",
            "models/gemini-2.0-flash-thinking-exp\n",
            "models/gemini-2.0-flash-thinking-exp-1219\n",
            "models/gemini-2.5-flash-preview-tts\n",
            "models/gemini-2.5-pro-preview-tts\n",
            "models/learnlm-2.0-flash-experimental\n",
            "models/gemma-3-1b-it\n",
            "models/gemma-3-4b-it\n",
            "models/gemma-3-12b-it\n",
            "models/gemma-3-27b-it\n",
            "models/gemma-3n-e4b-it\n",
            "models/gemma-3n-e2b-it\n",
            "models/gemini-2.5-flash-lite\n"
          ]
        }
      ]
    },
    {
      "cell_type": "markdown",
      "source": [
        "## Configurando o Agente"
      ],
      "metadata": {
        "id": "i5AktRphAH5x"
      }
    },
    {
      "cell_type": "code",
      "source": [
        "generation_config = {\n",
        "    \"temperature\":0.5\n",
        "}"
      ],
      "metadata": {
        "id": "McbWWp5lAFYh"
      },
      "execution_count": 13,
      "outputs": []
    },
    {
      "cell_type": "code",
      "source": [
        "#configurações de segurança\n",
        "safety_settings = {\n",
        "    \"HARASSMENT\": \"BLOCK_LOW_AND_ABOVE\",\n",
        "    \"HATE\":\"BLOCK_LOW_AND_ABOVE\",\n",
        "    \"SEXUAL\": \"BLOCK_LOW_AND_ABOVE\",\n",
        "    \"DANGEROUS\": \"BLOCK_LOW_AND_ABOVE\"\n",
        "}"
      ],
      "metadata": {
        "id": "kV6-nxHJALS0"
      },
      "execution_count": 14,
      "outputs": []
    },
    {
      "cell_type": "markdown",
      "source": [
        "## Inicializando a IA"
      ],
      "metadata": {
        "id": "i0iu6qk-AQkL"
      }
    },
    {
      "cell_type": "code",
      "source": [
        "model = genai.GenerativeModel(model_name = \"gemini-2.5-flash\",\n",
        "                              safety_settings= safety_settings, generation_config = generation_config)"
      ],
      "metadata": {
        "id": "USqCPLTeAMvZ"
      },
      "execution_count": 15,
      "outputs": []
    },
    {
      "cell_type": "markdown",
      "source": [
        "## Testando as primeiras interações com a IA"
      ],
      "metadata": {
        "id": "eThOOUsfAclg"
      }
    },
    {
      "cell_type": "code",
      "source": [
        "response = model.generate_content(\"Quero aprender sobre IA, me dê algumas sugestões\")\n",
        "print(response.text)"
      ],
      "metadata": {
        "colab": {
          "base_uri": "https://localhost:8080/",
          "height": 1000
        },
        "id": "mxvw7l5rAPg7",
        "outputId": "dd3580c4-3502-49ef-af52-803b861bb923"
      },
      "execution_count": 16,
      "outputs": [
        {
          "output_type": "stream",
          "name": "stdout",
          "text": [
            "Ótima iniciativa! A Inteligência Artificial é um campo vasto e fascinante. Para começar a aprender, é importante entender que você pode ir de um nível mais conceitual e de aplicações (para quem não quer codificar) até um nível técnico profundo (para quem quer construir sistemas de IA).\n",
            "\n",
            "Aqui estão algumas sugestões, organizadas para te ajudar a traçar seu caminho:\n",
            "\n",
            "---\n",
            "\n",
            "### **1. Comece pelo Básico (Fundamentos e Conceitos)**\n",
            "\n",
            "Mesmo que você queira se aprofundar tecnicamente, entender os conceitos é crucial.\n",
            "\n",
            "*   **O que é IA?** Entenda a definição, os diferentes tipos (IA Fraca/Estreita, IA Geral, Superinteligência) e a diferença entre IA, Machine Learning (Aprendizado de Máquina) e Deep Learning (Aprendizado Profundo).\n",
            "*   **História da IA:** Conhecer o percurso ajuda a entender o presente e o futuro.\n",
            "*   **Principais Áreas da IA:**\n",
            "    *   **Machine Learning (ML):** Como os computadores aprendem com dados (supervisionado, não supervisionado, por reforço).\n",
            "    *   **Deep Learning (DL):** Uma subárea do ML que usa Redes Neurais Artificiais com muitas camadas.\n",
            "    *   **Processamento de Linguagem Natural (PLN/NLP):** Como os computadores entendem e geram linguagem humana (ChatGPT é um exemplo).\n",
            "    *   **Visão Computacional:** Como os computadores \"enxergam\" e interpretam imagens e vídeos.\n",
            "    *   **Robótica:** A integração da IA com sistemas físicos.\n",
            "*   **Aplicações Práticas:** Pense em exemplos do dia a dia: assistentes de voz (Siri, Alexa), recomendações de filmes (Netflix), carros autônomos, diagnósticos médicos, filtros de spam.\n",
            "\n",
            "---\n",
            "\n",
            "### **2. Escolha Seu Nível de Aprofundamento**\n",
            "\n",
            "*   **Para Entusiastas (Não-Técnico):**\n",
            "    *   Seu foco será entender o impacto da IA na sociedade, nos negócios, na ética e no futuro.\n",
            "    *   Você não precisará aprender a programar ou matemática avançada.\n",
            "    *   **Recursos:** Livros populares, documentários, podcasts, artigos de notícias e cursos introdutivos sem programação.\n",
            "\n",
            "*   **Para Desenvolvedores/Cientistas de Dados (Técnico):**\n",
            "    *   Aqui, você vai querer aprender a construir modelos de IA.\n",
            "    *   **Pré-requisitos:**\n",
            "        *   **Programação:** **Python** é a linguagem mais usada para IA. Comece por ela.\n",
            "        *   **Matemática:** Álgebra Linear, Cálculo (básico) e Estatística/Probabilidade são fundamentais para entender os algoritmos.\n",
            "        *   **Estrutura de Dados e Algoritmos:** Conhecimento básico é útil.\n",
            "    *   **Próximos Passos:**\n",
            "        *   **Bibliotecas Python:** Aprenda a usar `NumPy`, `Pandas` (para manipulação de dados), `Matplotlib`/`Seaborn` (para visualização).\n",
            "        *   **Machine Learning:** Estude `Scikit-learn` (uma biblioteca popular para ML).\n",
            "        *   **Deep Learning:** Explore `TensorFlow` e `PyTorch` (frameworks para DL).\n",
            "        *   **Projetos Práticos:** A melhor forma de aprender é fazendo! Participe de competições (Kaggle), crie seus próprios projetos.\n",
            "\n",
            "---\n",
            "\n",
            "### **3. Sugestões de Recursos (Onde Aprender)**\n",
            "\n",
            "*   **Cursos Online (MOOCs):**\n",
            "    *   **Coursera:**\n",
            "        *   **\"Machine Learning\" por Andrew Ng (Stanford):** Um clássico e excelente ponto de partida para quem quer ir para o lado técnico. Usa Octave/MATLAB, mas os conceitos são transferíveis para Python.\n",
            "        *   **\"Deep Learning Specialization\" por Andrew Ng (DeepLearning.AI):** Para quem quer se aprofundar em redes neurais.\n",
            "        *   **\"AI for Everyone\" por Andrew Ng:** Ótimo para o público não-técnico, foca nos conceitos e aplicações.\n",
            "    *   **edX:** Oferece cursos de universidades renomadas como MIT, Harvard.\n",
            "    *   **Udacity:** Tem \"Nanodegrees\" focados em IA e Machine Learning.\n",
            "    *   **fast.ai:** Abordagem \"top-down\" (começa com aplicações e depois explica a teoria), muito prática e com foco em Deep Learning.\n",
            "    *   **Alura/Udemy:** Muitas opções em português e com diferentes níveis de profundidade.\n",
            "\n",
            "*   **Livros:**\n",
            "    *   **Para Iniciantes (Não-Técnicos):**\n",
            "        *   \"AI Superpowers: China, Silicon Valley, and the New World Order\" por Kai-Fu Lee.\n",
            "        *   \"Life 3.0: Being Human in the Age of Artificial Intelligence\" por Max Tegmark.\n",
            "        *   \"Hello World: Being Human in the Age of Algorithms\" por Hannah Fry.\n",
            "    *   **Para Técnicos:**\n",
            "        *   \"Hands-On Machine Learning with Scikit-Learn, Keras, and TensorFlow\" por Aurélien Géron (excelente para começar a codificar).\n",
            "        *   \"Deep Learning\" por Ian Goodfellow, Yoshua Bengio, Aaron Courville (mais acadêmico, mas uma referência).\n",
            "\n",
            "*   **Canais do YouTube:**\n",
            "    *   **3Blue1Brown:** Explicações visuais e intuitivas de matemática (fundamental para entender os algoritmos).\n",
            "    *   **freeCodeCamp.org:** Muitos tutoriais de programação e IA.\n",
            "    *   **Lex Fridman Podcast:** Entrevistas longas com grandes nomes da IA (mais para o lado conceitual e filosófico).\n",
            "    *   **StatQuest with Josh Starmer:** Explicações claras de estatística e algoritmos de ML.\n",
            "\n",
            "*   **Blogs e Sites de Notícias:**\n",
            "    *   **Towards Data Science (Medium):** Artigos técnicos e conceituais.\n",
            "    *   **MIT Technology Review:** Notícias e análises sobre o impacto da tecnologia.\n",
            "    *   **Synced:** Notícias e pesquisas em IA.\n",
            "\n",
            "*   **Comunidades Online:**\n",
            "    *   **Kaggle:** Plataforma de competições de ciência de dados, ótima para praticar e ver o código de outros.\n",
            "    *   **Grupos no LinkedIn, Discord, Reddit:** Participe de comunidades para tirar dúvidas e se manter atualizado.\n",
            "\n",
            "---\n",
            "\n",
            "### **4. Dicas Adicionais**\n",
            "\n",
            "*   **Seja Paciente:** IA é um campo complexo. Não espere aprender tudo de uma vez.\n",
            "*   **Consistência:** Dedique um tempo regular para estudar.\n",
            "*   **Pratique (se for técnico):** A teoria só se solidifica com a prática.\n",
            "*   **Mantenha-se Atualizado:** A IA evolui rapidamente. Siga pesquisadores, empresas e blogs relevantes.\n",
            "*   **Não tenha medo de errar:** Errar faz parte do processo de aprendizado.\n",
            "\n",
            "---\n",
            "\n",
            "Comece pelos fundamentos, explore as aplicações e, se tiver interesse, mergulhe no lado técnico. Boa sorte na sua jornada de aprendizado sobre IA!\n"
          ]
        }
      ]
    },
    {
      "cell_type": "markdown",
      "source": [
        "## Criando o chatbot Simulador de Entrevista"
      ],
      "metadata": {
        "id": "Q8HaEWkrAop3"
      }
    },
    {
      "cell_type": "code",
      "source": [
        "def simular_entrevista():\n",
        "    print(\"🧠 Olá sou a Nerva, o Simulador de Entrevista\")\n",
        "    vaga = input(\"Digite o nome da vaga (ex: Cientista de Dados Júnior): \")\n",
        "    area = input(\"Área da empresa (ex: Finanças, Varejo, Tecnologia): \")\n",
        "\n",
        "    prompt_base = f\"\"\"\n",
        "    Seu nome é Nerva e você é uma recrutadora experiente que está conduzindo uma entrevista para a vaga de {vaga}.\n",
        "    A entrevista será realizada com um candidato e você deve fazer perguntas relevantes à vaga,\n",
        "    ao mesmo tempo mantendo um tom respeitoso e profissional.\n",
        "\n",
        "    A empresa atua no setor de {area}.\n",
        "\n",
        "    Faça a primeira pergunta da entrevista. Depois de cada resposta, você fará a próxima pergunta com base no que foi dito.\n",
        "    \"\"\"\n",
        "\n",
        "    chat = model.start_chat(history=[])\n",
        "    resposta_ia = chat.send_message(prompt_base)\n",
        "    print(f\"\\nEntrevistador IA: {resposta_ia.text}\")\n",
        "\n",
        "    while True:\n",
        "        resposta_candidato = input(\"\\nSua resposta (ou 'sair' para encerrar): \")\n",
        "        if resposta_candidato.lower() == \"sair\":\n",
        "            print(\"Entrevista finalizada. Obrigado por participar!\")\n",
        "            break\n",
        "\n",
        "        resposta_ia = chat.send_message(resposta_candidato)\n",
        "        print(f\"\\nEntrevistador IA: {resposta_ia.text}\")\n",
        "\n",
        "# Executar simulador\n",
        "simular_entrevista()"
      ],
      "metadata": {
        "colab": {
          "base_uri": "https://localhost:8080/",
          "height": 445
        },
        "id": "xnLPHCncAysF",
        "outputId": "82af29ad-cc73-4672-90cd-f4b3139a6f5f"
      },
      "execution_count": 17,
      "outputs": [
        {
          "output_type": "stream",
          "name": "stdout",
          "text": [
            "🧠 Olá sou a Nerva, o Simulador de Entrevista\n",
            "Digite o nome da vaga (ex: Cientista de Dados Júnior): cientista de dados pleno\n",
            "Área da empresa (ex: Finanças, Varejo, Tecnologia): Tecnologia\n",
            "\n",
            "Entrevistador IA: Olá! Seja muito bem-vindo(a) à nossa entrevista. É um prazer tê-lo(a) conosco hoje.\n",
            "\n",
            "Meu nome é [Seu Nome], e sou a recrutadora responsável por esta vaga de Cientista de Dados Pleno aqui na nossa empresa de tecnologia. Nosso objetivo hoje é entender um pouco mais sobre suas experiências, habilidades e como elas se alinham com o que buscamos para esta posição.\n",
            "\n",
            "A entrevista será um bate-papo, e minhas perguntas serão baseadas nas suas respostas, para que possamos ter uma conversa fluida e aprofundada.\n",
            "\n",
            "Para começarmos, gostaria de ouvir um pouco sobre o que te atraiu à área de Ciência de Dados e, especificamente, o que te motivou a se candidatar a esta vaga em nossa empresa no setor de tecnologia.\n",
            "\n",
            "---\n",
            "\n",
            "**Candidato(a):** *(Sua vez de responder como o candidato. Pense em uma resposta que abranja sua paixão pela área, suas motivações e por que esta empresa em particular.)*\n",
            "\n",
            "Sua resposta (ou 'sair' para encerrar): gosto muito de aprender e de descobrir coisas novas e por isso sinto que a área de ciência de dados é para mim. E vejo que esta empresa está crescendo muito com muitos desafios novos\n",
            "\n",
            "Entrevistador IA: Excelente! Essa paixão por aprender e a busca por novas descobertas são, de fato, características essenciais para um Cientista de Dados, especialmente em um setor tão dinâmico como o de tecnologia. E é ótimo que você tenha percebido o nosso crescimento e os desafios que ele traz.\n",
            "\n",
            "Quando você fala em \"descobrir coisas novas\" nesse contexto da ciência de dados, poderia me dar um exemplo de um desafio ou problema que você já enfrentou, ou que te interessaria muito enfrentar, onde essa sua curiosidade e busca por aprendizado seriam cruciais para encontrar uma solução ou um *insight* valioso?\n",
            "\n",
            "Sua resposta (ou 'sair' para encerrar): sair\n",
            "Entrevista finalizada. Obrigado por participar!\n"
          ]
        }
      ]
    },
    {
      "cell_type": "code",
      "source": [],
      "metadata": {
        "id": "Lxz5tCWOBGyd"
      },
      "execution_count": null,
      "outputs": []
    }
  ]
}